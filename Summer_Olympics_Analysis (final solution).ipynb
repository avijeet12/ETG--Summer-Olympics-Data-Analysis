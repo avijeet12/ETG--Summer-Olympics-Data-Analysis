{
  "nbformat": 4,
  "nbformat_minor": 0,
  "metadata": {
    "colab": {
      "name": "Summer Olympics Analysis.ipynb",
      "provenance": [],
      "collapsed_sections": []
    },
    "kernelspec": {
      "name": "python3",
      "display_name": "Python 3"
    },
    "language_info": {
      "name": "python"
    }
  },
  "cells": [
    {
      "cell_type": "code",
      "metadata": {
        "id": "fo_aLKB7d3rR"
      },
      "source": [
        "import pandas as pd"
      ],
      "execution_count": 1,
      "outputs": []
    },
    {
      "cell_type": "code",
      "metadata": {
        "id": "MKuA7iIZeRfc"
      },
      "source": [
        "df=pd.read_csv(\"summer_olympics_data.csv\")"
      ],
      "execution_count": 2,
      "outputs": []
    },
    {
      "cell_type": "markdown",
      "metadata": {
        "id": "8m-wVxsPkEM5"
      },
      "source": [
        "### 1. **In how many cities Summer Olympics is held so far?**"
      ]
    },
    {
      "cell_type": "code",
      "metadata": {
        "colab": {
          "base_uri": "https://localhost:8080/"
        },
        "id": "GpGl6xwwiwbD",
        "outputId": "b2f6001a-d987-4217-b4c2-aae695fef940"
      },
      "source": [
        "a=len(df['City'].unique())\n",
        "print(\"The no. of cities where summer olympic is held so far=\",a)"
      ],
      "execution_count": 3,
      "outputs": [
        {
          "output_type": "stream",
          "name": "stdout",
          "text": [
            "The no. of cities where summer olympic is held so far= 22\n"
          ]
        }
      ]
    },
    {
      "cell_type": "markdown",
      "metadata": {
        "id": "N1dk_Zh-sBEo"
      },
      "source": [
        "# 2.** Which sport is having most number of Gold Medals so far? (Top 5) **"
      ]
    },
    {
      "cell_type": "code",
      "metadata": {
        "id": "2u4_IJXMk39O"
      },
      "source": [
        "df_Gold= df[df['Medal']=='Gold']"
      ],
      "execution_count": 4,
      "outputs": []
    },
    {
      "cell_type": "code",
      "metadata": {
        "colab": {
          "base_uri": "https://localhost:8080/",
          "height": 400
        },
        "id": "sIwO25m2k0Ce",
        "outputId": "c09a1836-359b-4151-994c-23289ebc9174"
      },
      "source": [
        "data1=[]\n",
        "\n",
        "for Sport in df_Gold['Sport'].unique():\n",
        "  data1.append([Sport, len(df_Gold[df_Gold['Sport']==Sport])])\n",
        "\n",
        "\n",
        "data1= pd.DataFrame(data1,columns=['Sport','count gold'])\n",
        "data1.sort_values(by='count gold', ascending=False).head().plot(x='Sport',y='count gold', kind='bar', figsize=(10,5))"
      ],
      "execution_count": 5,
      "outputs": [
        {
          "output_type": "execute_result",
          "data": {
            "text/plain": [
              "<matplotlib.axes._subplots.AxesSubplot at 0x7fe6ae241650>"
            ]
          },
          "metadata": {},
          "execution_count": 5
        },
        {
          "output_type": "display_data",
          "data": {
            "image/png": "[encoded data removed]",
            "text/plain": [
              "<Figure size 720x360 with 1 Axes>"
            ]
          },
          "metadata": {
            "needs_background": "light"
          }
        }
      ]
    },
    {
      "cell_type": "markdown",
      "metadata": {
        "id": "n2p1NC6KVdVw"
      },
      "source": [
        "#3. ** Which sport is having most number **of** Medals so far? (Top 5) **"
      ]
    },
    {
      "cell_type": "code",
      "metadata": {
        "colab": {
          "base_uri": "https://localhost:8080/",
          "height": 382
        },
        "id": "c9NFLPQMF-ze",
        "outputId": "7b677939-6550-47f1-dae6-536fb3f2ac32"
      },
      "source": [
        "data2=[]\n",
        "\n",
        "for Sport in df['Sport'].unique():\n",
        "  data2.append([Sport, len(df[df['Sport']==Sport])])\n",
        "\n",
        "data2=pd.DataFrame(data2,columns=['Sport','Medal']).sort_values(by='Medal', ascending=False).head().plot(x='Sport',y='Medal', kind='bar', figsize=(10,5))  "
      ],
      "execution_count": 6,
      "outputs": [
        {
          "output_type": "display_data",
          "data": {
            "image/png": "[encoded data removed]",
            "text/plain": [
              "<Figure size 720x360 with 1 Axes>"
            ]
          },
          "metadata": {
            "needs_background": "light"
          }
        }
      ]
    },
    {
      "cell_type": "markdown",
      "metadata": {
        "id": "_WmSArZTpB7A"
      },
      "source": [
        "# **4.Which Athlete has won most no. of medals? (Top 5)**"
      ]
    },
    {
      "cell_type": "code",
      "metadata": {
        "colab": {
          "base_uri": "https://localhost:8080/",
          "height": 459
        },
        "id": "21YlIkdioAd3",
        "outputId": "1cb54ad4-4aa5-417d-cc01-cfc0ba7163f4"
      },
      "source": [
        "data=[]\n",
        "\n",
        "for Athlete in df['Athlete'].unique():\n",
        "  data.append([Athlete, len(df[df['Athlete']==Athlete])])\n",
        "\n",
        "pd.DataFrame(data,columns=['Athlete','Medal']).sort_values(by='Medal', ascending=False).head().plot(x='Athlete',y='Medal', kind='bar', figsize=(10,5))  "
      ],
      "execution_count": 7,
      "outputs": [
        {
          "output_type": "execute_result",
          "data": {
            "text/plain": [
              "<matplotlib.axes._subplots.AxesSubplot at 0x7fe6adc755d0>"
            ]
          },
          "metadata": {},
          "execution_count": 7
        },
        {
          "output_type": "display_data",
          "data": {
            "image/png": "[encoded data removed]",
            "text/plain": [
              "<Figure size 720x360 with 1 Axes>"
            ]
          },
          "metadata": {
            "needs_background": "light"
          }
        }
      ]
    },
    {
      "cell_type": "markdown",
      "metadata": {
        "id": "A6bAYhSSMPtt"
      },
      "source": [
        "# **5. Which Athlete won most no. of Gold Medals of Medals? (Top 5)**"
      ]
    },
    {
      "cell_type": "code",
      "metadata": {
        "colab": {
          "base_uri": "https://localhost:8080/",
          "height": 409
        },
        "id": "9jSGAibYLGQX",
        "outputId": "ddc7f72c-095c-4441-83ad-431176297adc"
      },
      "source": [
        "data3=[]\n",
        "\n",
        "for Athlete in df['Athlete'].unique():\n",
        "  data3.append([Athlete, len(df_Gold[df_Gold['Athlete']==Athlete])])\n",
        "\n",
        "data3=pd.DataFrame(data3,columns=['Athlete','df_Gold']).sort_values(by='df_Gold', ascending=False).head().plot(x='Athlete',y='df_Gold', kind='bar', figsize=(10,5))  "
      ],
      "execution_count": 17,
      "outputs": [
        {
          "output_type": "display_data",
          "data": {
            "image/png": "[encoded data removed]",
            "text/plain": [
              "<Figure size 720x360 with 1 Axes>"
            ]
          },
          "metadata": {
            "needs_background": "light"
          }
        }
      ]
    },
    {
      "cell_type": "markdown",
      "metadata": {
        "id": "4GY7-4LZoRaW"
      },
      "source": [
        "# **6. In which year India won first Gold Medal in Summer Olympics?**"
      ]
    },
    {
      "cell_type": "code",
      "metadata": {
        "id": "3HxXn5R8MqF3",
        "colab": {
          "base_uri": "https://localhost:8080/"
        },
        "outputId": "91c11279-9519-4ec3-d486-93869d698155"
      },
      "source": [
        "df_Country= df_Gold[df['Country']=='IND']"
      ],
      "execution_count": 12,
      "outputs": [
        {
          "output_type": "stream",
          "name": "stderr",
          "text": [
            "/usr/local/lib/python3.7/dist-packages/ipykernel_launcher.py:1: UserWarning: Boolean Series key will be reindexed to match DataFrame index.\n",
            "  \"\"\"Entry point for launching an IPython kernel.\n"
          ]
        }
      ]
    },
    {
      "cell_type": "code",
      "metadata": {
        "id": "KtKT2eyShZLc",
        "colab": {
          "base_uri": "https://localhost:8080/"
        },
        "outputId": "1eb541cb-ac9e-41c0-e577-4c96e29214ea"
      },
      "source": [
        "df_Country['Year'].unique().min()"
      ],
      "execution_count": 16,
      "outputs": [
        {
          "output_type": "execute_result",
          "data": {
            "text/plain": [
              "1928"
            ]
          },
          "metadata": {},
          "execution_count": 16
        }
      ]
    },
    {
      "cell_type": "markdown",
      "metadata": {
        "id": "miaob_Y_6oA4"
      },
      "source": [
        "# **7. Which event is most popular in terms on no. of players?**"
      ]
    },
    {
      "cell_type": "code",
      "metadata": {
        "colab": {
          "base_uri": "https://localhost:8080/",
          "height": 432
        },
        "id": "ui_luH8V6QoN",
        "outputId": "98a4d646-c8e6-4d49-a6e8-5c23ff10b8cb"
      },
      "source": [
        "data=[]\n",
        "\n",
        "for Sport in df['Event'].unique():\n",
        "  data.append([Sport, len(df[df['Event']==Sport])])\n",
        "\n",
        "pd.DataFrame(data,columns=['Event','Athlete']).sort_values(by='Athlete', ascending=False).head().plot(x='Event',y='Athlete', kind='bar', figsize=(10,5))  "
      ],
      "execution_count": 8,
      "outputs": [
        {
          "output_type": "execute_result",
          "data": {
            "text/plain": [
              "<matplotlib.axes._subplots.AxesSubplot at 0x7fe6b3fd6d10>"
            ]
          },
          "metadata": {},
          "execution_count": 8
        },
        {
          "output_type": "display_data",
          "data": {
            "image/png": "[encoded data removed]",
            "text/plain": [
              "<Figure size 720x360 with 1 Axes>"
            ]
          },
          "metadata": {
            "needs_background": "light"
          }
        }
      ]
    },
    {
      "cell_type": "markdown",
      "metadata": {
        "id": "21bsN8DN9fRD"
      },
      "source": [
        "# **8. Which sport is having most female Gold Medalist?**"
      ]
    },
    {
      "cell_type": "code",
      "metadata": {
        "colab": {
          "base_uri": "https://localhost:8080/"
        },
        "id": "dOj6roVJ8XNG",
        "outputId": "86c9dc50-b30e-4c7c-bd71-c2bb5e877b32"
      },
      "source": [
        "df_Women_Gold=df_Gold[df['Gender']=='Women']"
      ],
      "execution_count": 18,
      "outputs": [
        {
          "output_type": "stream",
          "name": "stderr",
          "text": [
            "/usr/local/lib/python3.7/dist-packages/ipykernel_launcher.py:1: UserWarning: Boolean Series key will be reindexed to match DataFrame index.\n",
            "  \"\"\"Entry point for launching an IPython kernel.\n"
          ]
        }
      ]
    },
    {
      "cell_type": "code",
      "metadata": {
        "colab": {
          "base_uri": "https://localhost:8080/",
          "height": 400
        },
        "id": "fVEcAbG_7yJU",
        "outputId": "cb0e2cc5-7153-4f04-a55d-404d37a221f3"
      },
      "source": [
        "data=[]\n",
        "\n",
        "for Sport in df['Sport'].unique():\n",
        "  data.append([Sport, len(df_Women_Gold[df_Women_Gold['Sport']==Sport])])\n",
        "\n",
        "pd.DataFrame(data,columns=['Sport','df_Women_Gold']).sort_values(by='df_Women_Gold', ascending=False).head().plot(x='Sport',y='df_Women_Gold', kind='bar', figsize=(10,5))  "
      ],
      "execution_count": 19,
      "outputs": [
        {
          "output_type": "execute_result",
          "data": {
            "text/plain": [
              "<matplotlib.axes._subplots.AxesSubplot at 0x7fe6ad8c2b10>"
            ]
          },
          "metadata": {},
          "execution_count": 19
        },
        {
          "output_type": "display_data",
          "data": {
            "image/png": "[encoded data removed]",
            "text/plain": [
              "<Figure size 720x360 with 1 Axes>"
            ]
          },
          "metadata": {
            "needs_background": "light"
          }
        }
      ]
    }
  ]
}